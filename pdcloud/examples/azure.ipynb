{
 "cells": [
  {
   "cell_type": "code",
   "execution_count": 1,
   "metadata": {},
   "outputs": [
    {
     "ename": "ModuleNotFoundError",
     "evalue": "No module named 'pandas'",
     "output_type": "error",
     "traceback": [
      "\u001b[1;31m---------------------------------------------------------------------------\u001b[0m",
      "\u001b[1;31mModuleNotFoundError\u001b[0m                       Traceback (most recent call last)",
      "\u001b[1;32mc:\\Users\\airod\\workspaces\\pdcloud\\pdcloud\\examples\\azure.ipynb Cell 1\u001b[0m line \u001b[0;36m1\n\u001b[1;32m----> <a href='vscode-notebook-cell:/c%3A/Users/airod/workspaces/pdcloud/pdcloud/examples/azure.ipynb#W0sZmlsZQ%3D%3D?line=0'>1</a>\u001b[0m \u001b[39mimport\u001b[39;00m \u001b[39mpandas\u001b[39;00m \u001b[39mas\u001b[39;00m \u001b[39mpd\u001b[39;00m\n\u001b[0;32m      <a href='vscode-notebook-cell:/c%3A/Users/airod/workspaces/pdcloud/pdcloud/examples/azure.ipynb#W0sZmlsZQ%3D%3D?line=2'>3</a>\u001b[0m \u001b[39mfrom\u001b[39;00m \u001b[39mpdcloud\u001b[39;00m\u001b[39m.\u001b[39;00m\u001b[39madapters\u001b[39;00m\u001b[39m.\u001b[39;00m\u001b[39mazure\u001b[39;00m \u001b[39mimport\u001b[39;00m AzureStorageAdapter\n\u001b[0;32m      <a href='vscode-notebook-cell:/c%3A/Users/airod/workspaces/pdcloud/pdcloud/examples/azure.ipynb#W0sZmlsZQ%3D%3D?line=3'>4</a>\u001b[0m \u001b[39mfrom\u001b[39;00m \u001b[39mpdcloud\u001b[39;00m\u001b[39m.\u001b[39;00m\u001b[39mcore\u001b[39;00m\u001b[39m.\u001b[39;00m\u001b[39mmodel\u001b[39;00m \u001b[39mimport\u001b[39;00m Lib\n",
      "\u001b[1;31mModuleNotFoundError\u001b[0m: No module named 'pandas'"
     ]
    }
   ],
   "source": [
    "import pandas as pd\n",
    "\n",
    "from pdcloud.adapters.azure import AzureStorageAdapter\n",
    "from pdcloud.core.model import Lib\n",
    "\n",
    "# Initialize the Azure Storage Adapter\n",
    "connection_string = \"\"\n",
    "azure_storage = AzureStorageAdapter(connection_string)\n",
    "\n",
    "# Define the container name\n",
    "container_name = \"library\"\n",
    "\n",
    "# Create an instance of the Lib class\n",
    "lib = Lib(container=container_name, storage=azure_storage)\n",
    "\n",
    "\n",
    "# Read and process all data objects from the container\n",
    "all_data: pd.DataFrame = lib.read_all()\n",
    "print(\"All Data:\", all_data)\n",
    "\n",
    "# Read and process a specific data object from the container\n",
    "data_object_name = \"mydata\"\n",
    "specific_data: pd.DataFrame = lib.read(data_object_name)\n",
    "print(\"Specific Data Object:\", specific_data)\n",
    "\n",
    "# Write a DataFrame to the same Container\n",
    "lib.write(\"mydata\", data=df, overwrite=True)\n",
    "\n",
    "# Write a DataFrame to a different container\n",
    "lib.write(\"mydata\", container=\"library\", data=df, overwrite=True)\n"
   ]
  },
  {
   "cell_type": "code",
   "execution_count": 2,
   "metadata": {},
   "outputs": [
    {
     "name": "stderr",
     "output_type": "stream",
     "text": [
      "ERROR: Could not find a version that satisfies the requirement pdcloud (from versions: none)\n",
      "ERROR: No matching distribution found for pdcloud\n"
     ]
    }
   ],
   "source": [
    "!pip install pdcloud"
   ]
  },
  {
   "cell_type": "code",
   "execution_count": null,
   "metadata": {},
   "outputs": [],
   "source": []
  }
 ],
 "metadata": {
  "kernelspec": {
   "display_name": "venv",
   "language": "python",
   "name": "python3"
  },
  "language_info": {
   "codemirror_mode": {
    "name": "ipython",
    "version": 3
   },
   "file_extension": ".py",
   "mimetype": "text/x-python",
   "name": "python",
   "nbconvert_exporter": "python",
   "pygments_lexer": "ipython3",
   "version": "3.11.4"
  }
 },
 "nbformat": 4,
 "nbformat_minor": 2
}
