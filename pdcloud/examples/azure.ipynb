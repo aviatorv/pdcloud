{
 "cells": [
  {
   "cell_type": "code",
   "execution_count": null,
   "metadata": {},
   "outputs": [],
   "source": [
    "# pip install pdcloud\n",
    "\n",
    "import pandas as pd\n",
    "\n",
    "from pdcloud import AzureStorage\n",
    "from pdcloud import Lib\n",
    "\n",
    "# Initialize the Azure Storage Adapter\n",
    "connection_string = \"\"\n",
    "azure_storage = AzureStorage(connection_string)\n",
    "\n",
    "# Define the container name\n",
    "container_name = \"library\"\n",
    "\n",
    "# Create an instance of the Lib class\n",
    "lib = Lib(container=container_name, storage=azure_storage)\n",
    "\n",
    "\n",
    "# Read and process all data objects from the container\n",
    "all_data: pd.DataFrame = lib.read_all()\n",
    "print(\"All Data:\", all_data)\n",
    "\n",
    "# Read and process a specific data object from the container\n",
    "data_object_name = \"mydata\"\n",
    "specific_data: pd.DataFrame = lib.read(data_object_name)\n",
    "print(\"Specific Data Object:\", specific_data)\n",
    "\n",
    "# Write a DataFrame to the same Container\n",
    "lib.write(\"mydata\", data=specific_data, overwrite=True)\n",
    "\n",
    "# Write a DataFrame to a different container\n",
    "lib.write(\"mydata\", container=\"library\", data=specific_data, overwrite=True)\n"
   ]
  }
 ],
 "metadata": {
  "kernelspec": {
   "display_name": "venv",
   "language": "python",
   "name": "python3"
  },
  "language_info": {
   "codemirror_mode": {
    "name": "ipython",
    "version": 3
   },
   "file_extension": ".py",
   "mimetype": "text/x-python",
   "name": "python",
   "nbconvert_exporter": "python",
   "pygments_lexer": "ipython3",
   "version": "3.11.4"
  }
 },
 "nbformat": 4,
 "nbformat_minor": 2
}
